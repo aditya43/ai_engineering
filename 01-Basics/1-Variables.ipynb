{
 "cells": [
  {
   "cell_type": "markdown",
   "id": "48102e13",
   "metadata": {},
   "source": [
    "## Variables\n",
    "Variables are fundamental elements in programming used to store data that can be referenced and manipulated in a program. In Python, variables are created when you assign a value to them, and they do not need explicit declaration to reserve memory space. The declaration happens automatically when you assign a value to a variable."
   ]
  },
  {
   "cell_type": "code",
   "execution_count": 6,
   "id": "18e9978a",
   "metadata": {},
   "outputs": [
    {
     "name": "stdout",
     "output_type": "stream",
     "text": [
      "age : 32\n",
      "Height: 6.1\n",
      "Name: Aditya Hajare\n"
     ]
    }
   ],
   "source": [
    "## Declaring And Assigning Variables\n",
    "\n",
    "age = 32\n",
    "height = 6.1\n",
    "name = \"Aditya Hajare\"\n",
    "is_student = True\n",
    "\n",
    "## printing the variables\n",
    "\n",
    "print(\"age :\", age)\n",
    "print(\"Height:\", height)\n",
    "print(\"Name:\", name)"
   ]
  },
  {
   "cell_type": "code",
   "execution_count": 7,
   "id": "36f75d63",
   "metadata": {},
   "outputs": [],
   "source": [
    "## Variable Naming Conventions\n",
    "## Variable names should be descriptive\n",
    "## They must start with a letter or an '_' and contains letter,numbers and underscores\n",
    "## variables names are case sensitive\n",
    "\n",
    "#valid variable names\n",
    "first_name = \"Aditya\"\n",
    "last_name = \"Hajare\""
   ]
  },
  {
   "cell_type": "code",
   "execution_count": 8,
   "id": "bad167ad",
   "metadata": {},
   "outputs": [],
   "source": [
    "# Invalid variable names\n",
    "# 2age = 30\n",
    "# first-name = \"Aditya\"\n",
    "# #@name = \"Hajare\""
   ]
  },
  {
   "cell_type": "code",
   "execution_count": 11,
   "id": "c3c99ab3",
   "metadata": {},
   "outputs": [
    {
     "name": "stdout",
     "output_type": "stream",
     "text": [
      "<class 'str'>\n"
     ]
    }
   ],
   "source": [
    "## Understnading Variable types\n",
    "## Python is dynamically typed,type of a variable is determined at runtime\n",
    "age = 25 #int\n",
    "height = 5.8 #float\n",
    "name = \"Aditya Hajare\" #str\n",
    "is_student = True #bool\n",
    "\n",
    "print(type(name))"
   ]
  },
  {
   "cell_type": "code",
   "execution_count": 14,
   "id": "6fda54ba",
   "metadata": {},
   "outputs": [
    {
     "name": "stdout",
     "output_type": "stream",
     "text": [
      "<class 'str'> 25\n",
      "<class 'int'> 5\n",
      "5.0\n"
     ]
    }
   ],
   "source": [
    "## Type Conversion\n",
    "\n",
    "age_str = str(age)\n",
    "print(type(age_str), age_str)\n",
    "\n",
    "height = 5.11\n",
    "height_int = int(height)\n",
    "print(type(height_int), height_int)\n",
    "print(float(int(height)))"
   ]
  }
 ],
 "metadata": {
  "kernelspec": {
   "display_name": "ai_engineering",
   "language": "python",
   "name": "python3"
  },
  "language_info": {
   "codemirror_mode": {
    "name": "ipython",
    "version": 3
   },
   "file_extension": ".py",
   "mimetype": "text/x-python",
   "name": "python",
   "nbconvert_exporter": "python",
   "pygments_lexer": "ipython3",
   "version": "3.13.5"
  }
 },
 "nbformat": 4,
 "nbformat_minor": 5
}
